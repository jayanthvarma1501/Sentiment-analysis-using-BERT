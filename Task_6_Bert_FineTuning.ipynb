{
  "nbformat": 4,
  "nbformat_minor": 0,
  "metadata": {
    "colab": {
      "name": "Task 6: Bert_FineTuning.ipynb",
      "provenance": [],
      "collapsed_sections": [
        "lwQGzFjdVoMU",
        "jWvDD3vzVx_R",
        "Y6SoVlGqV3Ne",
        "2AnetMu7WDWS",
        "4bVGycSUWFxD",
        "aKlGuN-8WQGI",
        "OTMuGs2uWlDI",
        "8EUvJ2G7W0YI",
        "Bw0QphfUW3BK"
      ]
    },
    "kernelspec": {
      "name": "python3",
      "display_name": "Python 3"
    },
    "accelerator": "GPU"
  },
  "cells": [
    {
      "cell_type": "markdown",
      "metadata": {
        "id": "sUEZCEQruvzO",
        "colab_type": "text"
      },
      "source": [
        "## Task 6: BERT fine-tuning for classification\n",
        "\n",
        "**Team members:**\n",
        "1. Jayanth varma Dantuluri: 225821 : jayanth.dantuluri@st.ovgu.de\n",
        "2. Promod kumar Bontha: 226294 : pramod.bontha@st.ovgu.de"
      ]
    },
    {
      "cell_type": "markdown",
      "metadata": {
        "id": "gEvdF1WmUbj6",
        "colab_type": "text"
      },
      "source": [
        "\n",
        "**What is the tutorial classifying when using the GLUE MRPC data set?**\n",
        "\n",
        "It is a corpus of sentence pairs automatically extracted from online news sources. The label is whether the sentence pair is equivalent or not.\n",
        "\n",
        "**In addition to the input itself, the tutorial feeds two binary tensors for input mask and input type to the model. Is this necessary for the data set single sentence classification?**\n",
        "\n",
        "The input mask allows the model to cleanly differentiate between the content and the padding. The mask has the same shape as the input word ids, and contains a 1 anywhere the input word ids is not padding.\n",
        "The \"input type\" also has the same shape, but inside the non-padded region, contains a 0 or a 1 indicating which sentence the token is a part of.\n",
        "\n",
        "**How does the tokenization in BERT differ from the one in the previous Task 5?**\n",
        "\n",
        "During tokenization, if a word is combination of two words like for example 'tensorflow' is 'tensor' and 'flow'. It will split the word into two words with 2 hashes at the begining of the second word. \n",
        "\n",
        "**What is a [CLS] token and what is it used for?**\n",
        "\n",
        "A CLS token indicates the start of the input sentence. So, the encoder can understand this is the start of the sentence.\n",
        "\n",
        "**Which part of the BERT encoding is used for the classification?**\n",
        "The bert encoder will generate the embedding for each word in the input sentence. These embeddings are fed as input to bert classifier(or any other classifier).\n",
        "\n",
        "**Are the BERT encoder weights also fine-tuned to the task?**\n",
        "\n",
        "No, because the bert encoder is already pre trained with large amount of text. so, that it understand the language. During the fine tuning process, the weights are only changed at the top layers where the classification happens. "
      ]
    },
    {
      "cell_type": "code",
      "metadata": {
        "id": "9gL9zXn5ATBB",
        "colab_type": "code",
        "colab": {}
      },
      "source": [
        "pip install -q tf-nightly"
      ],
      "execution_count": null,
      "outputs": []
    },
    {
      "cell_type": "code",
      "metadata": {
        "id": "tjRA88XXAgto",
        "colab_type": "code",
        "colab": {}
      },
      "source": [
        "pip install -q tf-models-nightly"
      ],
      "execution_count": null,
      "outputs": []
    },
    {
      "cell_type": "markdown",
      "metadata": {
        "id": "jg8hGIyGU6Lq",
        "colab_type": "text"
      },
      "source": [
        "# Importing Libraries"
      ]
    },
    {
      "cell_type": "code",
      "metadata": {
        "id": "hmMYrKYKAhGt",
        "colab_type": "code",
        "colab": {}
      },
      "source": [
        "import os\n",
        "\n",
        "import numpy as np\n",
        "import matplotlib.pyplot as plt\n",
        "\n",
        "import tensorflow as tf\n",
        "\n",
        "import tensorflow_hub as hub\n",
        "import tensorflow_datasets as tfds\n",
        "tfds.disable_progress_bar()\n",
        "\n",
        "from official.modeling import tf_utils\n",
        "from official import nlp\n",
        "from official.nlp import bert\n",
        "\n",
        "# Load the required submodules\n",
        "import official.nlp.optimization\n",
        "import official.nlp.bert.bert_models\n",
        "import official.nlp.bert.configs\n",
        "import official.nlp.bert.run_classifier\n",
        "import official.nlp.bert.tokenization\n",
        "import official.nlp.data.classifier_data_lib\n",
        "import official.nlp.modeling.losses\n",
        "import official.nlp.modeling.models\n",
        "import official.nlp.modeling.networks"
      ],
      "execution_count": null,
      "outputs": []
    },
    {
      "cell_type": "code",
      "metadata": {
        "id": "D5olddtuAl3R",
        "colab_type": "code",
        "colab": {
          "base_uri": "https://localhost:8080/",
          "height": 86
        },
        "outputId": "aef765ab-2b86-457a-afd5-e5509cdfced9"
      },
      "source": [
        "gs_folder_bert = \"gs://cloud-tpu-checkpoints/bert/keras_bert/uncased_L-12_H-768_A-12\"\n",
        "tf.io.gfile.listdir(gs_folder_bert)"
      ],
      "execution_count": null,
      "outputs": [
        {
          "output_type": "execute_result",
          "data": {
            "text/plain": [
              "['bert_config.json',\n",
              " 'bert_model.ckpt.data-00000-of-00001',\n",
              " 'bert_model.ckpt.index',\n",
              " 'vocab.txt']"
            ]
          },
          "metadata": {
            "tags": []
          },
          "execution_count": 4
        }
      ]
    },
    {
      "cell_type": "code",
      "metadata": {
        "id": "3tB57pMwAmpt",
        "colab_type": "code",
        "colab": {}
      },
      "source": [
        "hub_url_bert = \"https://tfhub.dev/tensorflow/bert_en_uncased_L-12_H-768_A-12/2\""
      ],
      "execution_count": null,
      "outputs": []
    },
    {
      "cell_type": "markdown",
      "metadata": {
        "id": "nxu1ZkknVDUq",
        "colab_type": "text"
      },
      "source": [
        "## Getting the data from Tensorflow datasets"
      ]
    },
    {
      "cell_type": "code",
      "metadata": {
        "id": "SqAd2G2qAp5K",
        "colab_type": "code",
        "colab": {
          "base_uri": "https://localhost:8080/",
          "height": 158
        },
        "outputId": "0f2607eb-446a-497b-8770-48d7b1d469c8"
      },
      "source": [
        "glue, info = tfds.load('glue/cola', with_info=True,\n",
        "                       # It's small, load the whole dataset\n",
        "                       batch_size=-1)"
      ],
      "execution_count": null,
      "outputs": [
        {
          "output_type": "stream",
          "text": [
            "\u001b[1mDownloading and preparing dataset glue/cola/1.0.0 (download: 368.14 KiB, generated: Unknown size, total: 368.14 KiB) to /root/tensorflow_datasets/glue/cola/1.0.0...\u001b[0m\n"
          ],
          "name": "stdout"
        },
        {
          "output_type": "stream",
          "text": [
            "/usr/local/lib/python3.6/dist-packages/urllib3/connectionpool.py:847: InsecureRequestWarning: Unverified HTTPS request is being made. Adding certificate verification is strongly advised. See: https://urllib3.readthedocs.io/en/latest/advanced-usage.html#ssl-warnings\n",
            "  InsecureRequestWarning)\n"
          ],
          "name": "stderr"
        },
        {
          "output_type": "stream",
          "text": [
            "Shuffling and writing examples to /root/tensorflow_datasets/glue/cola/1.0.0.incompleteILQI6A/glue-train.tfrecord\n",
            "Shuffling and writing examples to /root/tensorflow_datasets/glue/cola/1.0.0.incompleteILQI6A/glue-validation.tfrecord\n",
            "Shuffling and writing examples to /root/tensorflow_datasets/glue/cola/1.0.0.incompleteILQI6A/glue-test.tfrecord\n",
            "\u001b[1mDataset glue downloaded and prepared to /root/tensorflow_datasets/glue/cola/1.0.0. Subsequent calls will reuse this data.\u001b[0m\n"
          ],
          "name": "stdout"
        }
      ]
    },
    {
      "cell_type": "code",
      "metadata": {
        "id": "cnHjOeH8BA9v",
        "colab_type": "code",
        "colab": {
          "base_uri": "https://localhost:8080/",
          "height": 34
        },
        "outputId": "415adf83-431f-4bda-9539-4b0e169afdfc"
      },
      "source": [
        "list(glue.keys())"
      ],
      "execution_count": null,
      "outputs": [
        {
          "output_type": "execute_result",
          "data": {
            "text/plain": [
              "['test', 'train', 'validation']"
            ]
          },
          "metadata": {
            "tags": []
          },
          "execution_count": 7
        }
      ]
    },
    {
      "cell_type": "code",
      "metadata": {
        "id": "OyfPzudqBJJT",
        "colab_type": "code",
        "colab": {
          "base_uri": "https://localhost:8080/",
          "height": 103
        },
        "outputId": "6dd56cbe-394b-444a-8818-1c8f8ade713a"
      },
      "source": [
        "info.features"
      ],
      "execution_count": null,
      "outputs": [
        {
          "output_type": "execute_result",
          "data": {
            "text/plain": [
              "FeaturesDict({\n",
              "    'idx': tf.int32,\n",
              "    'label': ClassLabel(shape=(), dtype=tf.int64, num_classes=2),\n",
              "    'sentence': Text(shape=(), dtype=tf.string),\n",
              "})"
            ]
          },
          "metadata": {
            "tags": []
          },
          "execution_count": 8
        }
      ]
    },
    {
      "cell_type": "code",
      "metadata": {
        "id": "L-bqhEGdBMSB",
        "colab_type": "code",
        "colab": {
          "base_uri": "https://localhost:8080/",
          "height": 34
        },
        "outputId": "762ff47d-bf06-446c-def3-b35dfcdb2b14"
      },
      "source": [
        "info.features['label'].names"
      ],
      "execution_count": null,
      "outputs": [
        {
          "output_type": "execute_result",
          "data": {
            "text/plain": [
              "['unacceptable', 'acceptable']"
            ]
          },
          "metadata": {
            "tags": []
          },
          "execution_count": 9
        }
      ]
    },
    {
      "cell_type": "code",
      "metadata": {
        "id": "d5Bz6H1PBPl9",
        "colab_type": "code",
        "colab": {
          "base_uri": "https://localhost:8080/",
          "height": 69
        },
        "outputId": "03c6eee4-5762-4dd3-86df-e90a001f003c"
      },
      "source": [
        "glue_train = glue['train']\n",
        "\n",
        "for key, value in glue_train.items():\n",
        "  print(f\"{key:9s}: {value[0].numpy()}\")"
      ],
      "execution_count": null,
      "outputs": [
        {
          "output_type": "stream",
          "text": [
            "idx      : 1680\n",
            "label    : 1\n",
            "sentence : b'It is this hat that it is certain that he was wearing.'\n"
          ],
          "name": "stdout"
        }
      ]
    },
    {
      "cell_type": "markdown",
      "metadata": {
        "id": "Ox1j5-obVeIG",
        "colab_type": "text"
      },
      "source": [
        "## Tokenize the input sentences using Bert tokenizer"
      ]
    },
    {
      "cell_type": "code",
      "metadata": {
        "id": "XpgeJlCfBSq6",
        "colab_type": "code",
        "colab": {
          "base_uri": "https://localhost:8080/",
          "height": 34
        },
        "outputId": "bc2333c0-fb2c-4344-ad9f-484657024049"
      },
      "source": [
        "tokenizer = bert.tokenization.FullTokenizer(\n",
        "    vocab_file=os.path.join(gs_folder_bert, \"vocab.txt\"),\n",
        "     do_lower_case=True)\n",
        "\n",
        "print(\"Vocab size:\", len(tokenizer.vocab))"
      ],
      "execution_count": null,
      "outputs": [
        {
          "output_type": "stream",
          "text": [
            "Vocab size: 30522\n"
          ],
          "name": "stdout"
        }
      ]
    },
    {
      "cell_type": "code",
      "metadata": {
        "id": "ExTd62gmBfBo",
        "colab_type": "code",
        "colab": {
          "base_uri": "https://localhost:8080/",
          "height": 51
        },
        "outputId": "1b9648a8-24b6-49ca-8007-14d6900d121d"
      },
      "source": [
        "tokens = tokenizer.tokenize(\"Hello TensorFlow!\")\n",
        "print(tokens)\n",
        "ids = tokenizer.convert_tokens_to_ids(tokens)\n",
        "print(ids)"
      ],
      "execution_count": null,
      "outputs": [
        {
          "output_type": "stream",
          "text": [
            "['hello', 'tensor', '##flow', '!']\n",
            "[7592, 23435, 12314, 999]\n"
          ],
          "name": "stdout"
        }
      ]
    },
    {
      "cell_type": "code",
      "metadata": {
        "id": "0RmT0fbABs5f",
        "colab_type": "code",
        "colab": {
          "base_uri": "https://localhost:8080/",
          "height": 34
        },
        "outputId": "396f800c-9e07-40a1-e718-0fe6f86c3843"
      },
      "source": [
        "tokenizer.convert_tokens_to_ids(['[CLS]', '[SEP]'])"
      ],
      "execution_count": null,
      "outputs": [
        {
          "output_type": "execute_result",
          "data": {
            "text/plain": [
              "[101, 102]"
            ]
          },
          "metadata": {
            "tags": []
          },
          "execution_count": 13
        }
      ]
    },
    {
      "cell_type": "markdown",
      "metadata": {
        "id": "lwQGzFjdVoMU",
        "colab_type": "text"
      },
      "source": [
        "## Enconding the sentence"
      ]
    },
    {
      "cell_type": "code",
      "metadata": {
        "id": "vok5PH40ByFb",
        "colab_type": "code",
        "colab": {}
      },
      "source": [
        "def encode_sentence(s):\n",
        "   tokens = list(tokenizer.tokenize(s.numpy()))\n",
        "   tokens.append('[SEP]')\n",
        "   return tokenizer.convert_tokens_to_ids(tokens)\n",
        "\n",
        "sentence = tf.ragged.constant([\n",
        "    encode_sentence(s) for s in glue_train[\"sentence\"]])"
      ],
      "execution_count": null,
      "outputs": []
    },
    {
      "cell_type": "code",
      "metadata": {
        "id": "fgGadpXXB5k4",
        "colab_type": "code",
        "colab": {
          "base_uri": "https://localhost:8080/",
          "height": 34
        },
        "outputId": "882d22c2-cf14-4c83-8b17-df1307e1c6ab"
      },
      "source": [
        "print(\"Sentence shape:\", sentence.shape.as_list())"
      ],
      "execution_count": null,
      "outputs": [
        {
          "output_type": "stream",
          "text": [
            "Sentence shape: [8551, None]\n"
          ],
          "name": "stdout"
        }
      ]
    },
    {
      "cell_type": "code",
      "metadata": {
        "id": "oW0kHJX4CL-O",
        "colab_type": "code",
        "colab": {
          "base_uri": "https://localhost:8080/",
          "height": 69
        },
        "outputId": "ab9722ae-4149-4c10-820e-0dba524c541e"
      },
      "source": [
        "sentence[0]"
      ],
      "execution_count": null,
      "outputs": [
        {
          "output_type": "execute_result",
          "data": {
            "text/plain": [
              "<tf.Tensor: shape=(14,), dtype=int32, numpy=\n",
              "array([2009, 2003, 2023, 6045, 2008, 2009, 2003, 3056, 2008, 2002, 2001,\n",
              "       4147, 1012,  102], dtype=int32)>"
            ]
          },
          "metadata": {
            "tags": []
          },
          "execution_count": 19
        }
      ]
    },
    {
      "cell_type": "code",
      "metadata": {
        "id": "GKhpmmiOCVyH",
        "colab_type": "code",
        "colab": {
          "base_uri": "https://localhost:8080/",
          "height": 265
        },
        "outputId": "048465ad-ebc8-4f28-debe-84a39323214a"
      },
      "source": [
        "cls = [tokenizer.convert_tokens_to_ids(['[CLS]'])]*sentence.shape[0]\n",
        "input_word_ids = tf.concat([cls, sentence], axis=-1)\n",
        "_ = plt.pcolormesh(input_word_ids.to_tensor())"
      ],
      "execution_count": null,
      "outputs": [
        {
          "output_type": "display_data",
          "data": {
            "image/png": "[encoded data removed]",
            "text/plain": [
              "<Figure size 432x288 with 1 Axes>"
            ]
          },
          "metadata": {
            "tags": [],
            "needs_background": "light"
          }
        }
      ]
    },
    {
      "cell_type": "code",
      "metadata": {
        "id": "BGKekVwZC58S",
        "colab_type": "code",
        "colab": {
          "base_uri": "https://localhost:8080/",
          "height": 282
        },
        "outputId": "5a4686ad-1f57-4c04-d6d7-46602047a5fe"
      },
      "source": [
        "input_mask = tf.ones_like(input_word_ids).to_tensor()\n",
        "\n",
        "plt.pcolormesh(input_mask)"
      ],
      "execution_count": null,
      "outputs": [
        {
          "output_type": "execute_result",
          "data": {
            "text/plain": [
              "<matplotlib.collections.QuadMesh at 0x7f72632f8828>"
            ]
          },
          "metadata": {
            "tags": []
          },
          "execution_count": 16
        },
        {
          "output_type": "display_data",
          "data": {
            "image/png": "[encoded data removed]",
            "text/plain": [
              "<Figure size 432x288 with 1 Axes>"
            ]
          },
          "metadata": {
            "tags": [],
            "needs_background": "light"
          }
        }
      ]
    },
    {
      "cell_type": "code",
      "metadata": {
        "id": "yAzr03jmDEni",
        "colab_type": "code",
        "colab": {
          "base_uri": "https://localhost:8080/",
          "height": 282
        },
        "outputId": "aaddc7dc-45c1-400a-aa40-9249201e3295"
      },
      "source": [
        "type_cls = tf.zeros_like(cls)\n",
        "type_s = tf.zeros_like(sentence)\n",
        "input_type_ids = tf.concat([type_cls, type_s], axis=-1).to_tensor()\n",
        "\n",
        "plt.pcolormesh(input_type_ids)"
      ],
      "execution_count": null,
      "outputs": [
        {
          "output_type": "execute_result",
          "data": {
            "text/plain": [
              "<matplotlib.collections.QuadMesh at 0x7f72632520f0>"
            ]
          },
          "metadata": {
            "tags": []
          },
          "execution_count": 17
        },
        {
          "output_type": "display_data",
          "data": {
            "image/png": "[encoded data removed]",
            "text/plain": [
              "<Figure size 432x288 with 1 Axes>"
            ]
          },
          "metadata": {
            "tags": [],
            "needs_background": "light"
          }
        }
      ]
    },
    {
      "cell_type": "markdown",
      "metadata": {
        "id": "jWvDD3vzVx_R",
        "colab_type": "text"
      },
      "source": [
        "## Putting it all together"
      ]
    },
    {
      "cell_type": "code",
      "metadata": {
        "id": "kW8qFmN8Dah2",
        "colab_type": "code",
        "colab": {}
      },
      "source": [
        "def encode_sentence(s, tokenizer):\n",
        "   tokens = list(tokenizer.tokenize(s))\n",
        "   tokens.append('[SEP]')\n",
        "   return tokenizer.convert_tokens_to_ids(tokens)\n",
        "\n",
        "def bert_encode(glue_dict, tokenizer):\n",
        "  num_examples = len(glue_dict[\"sentence\"])\n",
        "  \n",
        "  sentence = tf.ragged.constant([\n",
        "      encode_sentence(s, tokenizer)\n",
        "      for s in np.array(glue_dict[\"sentence\"])])\n",
        "\n",
        "  cls = [tokenizer.convert_tokens_to_ids(['[CLS]'])]*sentence.shape[0]\n",
        "  input_word_ids = tf.concat([cls, sentence], axis=-1)\n",
        "\n",
        "  input_mask = tf.ones_like(input_word_ids).to_tensor()\n",
        "\n",
        "  type_cls = tf.zeros_like(cls)\n",
        "  type_s = tf.zeros_like(sentence)\n",
        "  input_type_ids = tf.concat(\n",
        "      [type_cls, type_s], axis=-1).to_tensor()\n",
        "\n",
        "  inputs = {\n",
        "      'input_word_ids': input_word_ids.to_tensor(),\n",
        "      'input_mask': input_mask,\n",
        "      'input_type_ids': input_type_ids}\n",
        "\n",
        "  return inputs"
      ],
      "execution_count": null,
      "outputs": []
    },
    {
      "cell_type": "markdown",
      "metadata": {
        "id": "Y6SoVlGqV3Ne",
        "colab_type": "text"
      },
      "source": [
        "## Splitting into Train and validataion sets"
      ]
    },
    {
      "cell_type": "code",
      "metadata": {
        "id": "mfg0cEyHFJ3a",
        "colab_type": "code",
        "colab": {}
      },
      "source": [
        "glue_train = bert_encode(glue['train'], tokenizer)\n",
        "glue_train_labels = glue['train']['label']\n",
        "\n",
        "glue_validation = bert_encode(glue['validation'], tokenizer)\n",
        "glue_validation_labels = glue['validation']['label']\n",
        "\n",
        "glue_test = bert_encode(glue['test'], tokenizer)\n",
        "glue_test_labels  = glue['test']['label']"
      ],
      "execution_count": null,
      "outputs": []
    },
    {
      "cell_type": "code",
      "metadata": {
        "id": "KGycEBVJFcSO",
        "colab_type": "code",
        "colab": {
          "base_uri": "https://localhost:8080/",
          "height": 430
        },
        "outputId": "b7093e9f-857c-4a75-c633-1de4a1d6b190"
      },
      "source": [
        "glue_train"
      ],
      "execution_count": null,
      "outputs": [
        {
          "output_type": "execute_result",
          "data": {
            "text/plain": [
              "{'input_mask': <tf.Tensor: shape=(8551, 47), dtype=int32, numpy=\n",
              " array([[1, 1, 1, ..., 0, 0, 0],\n",
              "        [1, 1, 1, ..., 0, 0, 0],\n",
              "        [1, 1, 1, ..., 0, 0, 0],\n",
              "        ...,\n",
              "        [1, 1, 1, ..., 0, 0, 0],\n",
              "        [1, 1, 1, ..., 0, 0, 0],\n",
              "        [1, 1, 1, ..., 0, 0, 0]], dtype=int32)>,\n",
              " 'input_type_ids': <tf.Tensor: shape=(8551, 47), dtype=int32, numpy=\n",
              " array([[0, 0, 0, ..., 0, 0, 0],\n",
              "        [0, 0, 0, ..., 0, 0, 0],\n",
              "        [0, 0, 0, ..., 0, 0, 0],\n",
              "        ...,\n",
              "        [0, 0, 0, ..., 0, 0, 0],\n",
              "        [0, 0, 0, ..., 0, 0, 0],\n",
              "        [0, 0, 0, ..., 0, 0, 0]], dtype=int32)>,\n",
              " 'input_word_ids': <tf.Tensor: shape=(8551, 47), dtype=int32, numpy=\n",
              " array([[ 101, 2009, 2003, ...,    0,    0,    0],\n",
              "        [ 101, 2014, 8114, ...,    0,    0,    0],\n",
              "        [ 101, 2119, 1996, ...,    0,    0,    0],\n",
              "        ...,\n",
              "        [ 101, 2198, 2246, ...,    0,    0,    0],\n",
              "        [ 101, 2017, 2056, ...,    0,    0,    0],\n",
              "        [ 101, 2054, 2057, ...,    0,    0,    0]], dtype=int32)>}"
            ]
          },
          "metadata": {
            "tags": []
          },
          "execution_count": 15
        }
      ]
    },
    {
      "cell_type": "markdown",
      "metadata": {
        "id": "2AnetMu7WDWS",
        "colab_type": "text"
      },
      "source": [
        "## Building the Model"
      ]
    },
    {
      "cell_type": "code",
      "metadata": {
        "id": "xyvnDjTLHq6Q",
        "colab_type": "code",
        "colab": {}
      },
      "source": [
        "import json\n",
        "\n",
        "bert_config_file = os.path.join(gs_folder_bert, \"bert_config.json\")\n",
        "config_dict = json.loads(tf.io.gfile.GFile(bert_config_file).read())\n",
        "\n",
        "bert_config = bert.configs.BertConfig.from_dict(config_dict)\n",
        "\n",
        "config_dict\n",
        "\n",
        "bert_classifier, bert_encoder = bert.bert_models.classifier_model(\n",
        "    bert_config, num_labels=2)"
      ],
      "execution_count": null,
      "outputs": []
    },
    {
      "cell_type": "markdown",
      "metadata": {
        "id": "4bVGycSUWFxD",
        "colab_type": "text"
      },
      "source": [
        "## Model Architecture"
      ]
    },
    {
      "cell_type": "code",
      "metadata": {
        "id": "0GEZPUfHPY1R",
        "colab_type": "code",
        "colab": {
          "base_uri": "https://localhost:8080/",
          "height": 1000
        },
        "outputId": "1b215eba-884f-47d0-a74f-5c74bf3a8a32"
      },
      "source": [
        "tf.keras.utils.plot_model(bert_encoder, show_shapes=True, dpi=48)"
      ],
      "execution_count": null,
      "outputs": [
        {
          "output_type": "execute_result",
          "data": {
            "image/png": "[encoded data removed]",
            "text/plain": [
              "<IPython.core.display.Image object>"
            ]
          },
          "metadata": {
            "tags": []
          },
          "execution_count": 17
        }
      ]
    },
    {
      "cell_type": "code",
      "metadata": {
        "id": "vy93gw3SQhGz",
        "colab_type": "code",
        "colab": {
          "base_uri": "https://localhost:8080/",
          "height": 34
        },
        "outputId": "8d62d1ff-8835-4865-d256-645f1b856f80"
      },
      "source": [
        "checkpoint = tf.train.Checkpoint(model=bert_encoder)\n",
        "checkpoint.restore(\n",
        "    os.path.join(gs_folder_bert, 'bert_model.ckpt')).assert_consumed()"
      ],
      "execution_count": null,
      "outputs": [
        {
          "output_type": "execute_result",
          "data": {
            "text/plain": [
              "<tensorflow.python.training.tracking.util.CheckpointLoadStatus at 0x7f1ec03a54a8>"
            ]
          },
          "metadata": {
            "tags": []
          },
          "execution_count": 18
        }
      ]
    },
    {
      "cell_type": "markdown",
      "metadata": {
        "id": "aKlGuN-8WQGI",
        "colab_type": "text"
      },
      "source": [
        "## Testing the bert encoder with 20 sentences from training data"
      ]
    },
    {
      "cell_type": "code",
      "metadata": {
        "id": "UIlkm1PsUfSx",
        "colab_type": "code",
        "colab": {
          "base_uri": "https://localhost:8080/",
          "height": 585
        },
        "outputId": "a85080c9-2e61-4b90-f180-b8aac6b5c0ac"
      },
      "source": [
        "glue_batch = {key: val[:20] for key, val in glue_train.items()}\n",
        "print(bert_encoder(glue_batch))"
      ],
      "execution_count": null,
      "outputs": [
        {
          "output_type": "stream",
          "text": [
            "[<tf.Tensor: shape=(20, 1, 768), dtype=float32, numpy=\n",
            "array([[[-0.46811232,  0.12466568, -0.3090288 , ..., -0.09195638,\n",
            "          0.18098065,  0.33724126]],\n",
            "\n",
            "       [[-0.30367583, -0.07194716, -0.09597226, ..., -0.03243611,\n",
            "          0.15380663,  0.48674873]],\n",
            "\n",
            "       [[-0.07534189,  0.00867537,  0.09219193, ..., -0.38102174,\n",
            "          0.4592446 ,  0.30532697]],\n",
            "\n",
            "       ...,\n",
            "\n",
            "       [[ 0.03555591,  0.4009519 , -0.11255445, ...,  0.00952956,\n",
            "          0.46256024,  0.07155412]],\n",
            "\n",
            "       [[-0.283619  ,  0.3562356 , -0.6528807 , ..., -0.3969223 ,\n",
            "          0.1921187 ,  0.02348027]],\n",
            "\n",
            "       [[ 0.04382512,  0.2401722 , -0.02988797, ..., -0.02835641,\n",
            "          0.09933546,  0.36110574]]], dtype=float32)>, <tf.Tensor: shape=(20, 768), dtype=float32, numpy=\n",
            "array([[-0.82943326, -0.39025608, -0.8453315 , ..., -0.6568351 ,\n",
            "        -0.7338067 ,  0.8679244 ],\n",
            "       [-0.5491912 , -0.11231149, -0.03894949, ..., -0.279177  ,\n",
            "        -0.4525063 ,  0.6305192 ],\n",
            "       [-0.84930766, -0.32196096, -0.8385856 , ..., -0.4531367 ,\n",
            "        -0.6468025 ,  0.86096656],\n",
            "       ...,\n",
            "       [-0.8086393 , -0.21876076, -0.75489163, ..., -0.5074146 ,\n",
            "        -0.54694325,  0.89732736],\n",
            "       [-0.91983813, -0.39414096, -0.9704418 , ..., -0.9005624 ,\n",
            "        -0.7190723 ,  0.9458658 ],\n",
            "       [-0.8720846 , -0.26102892, -0.08778984, ...,  0.23657633,\n",
            "        -0.69823796,  0.91412455]], dtype=float32)>]\n"
          ],
          "name": "stdout"
        }
      ]
    },
    {
      "cell_type": "markdown",
      "metadata": {
        "id": "OTMuGs2uWlDI",
        "colab_type": "text"
      },
      "source": [
        "## Configuration for the classification Model"
      ]
    },
    {
      "cell_type": "code",
      "metadata": {
        "id": "QF42GAeiaMWF",
        "colab_type": "code",
        "colab": {
          "base_uri": "https://localhost:8080/",
          "height": 206
        },
        "outputId": "6762a9ce-c921-45ec-b868-186121ce3142"
      },
      "source": [
        "transformer_config = config_dict.copy()\n",
        "\n",
        "# You need to rename a few fields to make this work:\n",
        "transformer_config['attention_dropout_rate'] = transformer_config.pop('attention_probs_dropout_prob')\n",
        "transformer_config['activation'] = tf_utils.get_activation(transformer_config.pop('hidden_act'))\n",
        "transformer_config['dropout_rate'] = transformer_config.pop('hidden_dropout_prob')\n",
        "transformer_config['initializer'] = tf.keras.initializers.TruncatedNormal(\n",
        "          stddev=transformer_config.pop('initializer_range'))\n",
        "transformer_config['max_sequence_length'] = transformer_config.pop('max_position_embeddings')\n",
        "transformer_config['num_layers'] = transformer_config.pop('num_hidden_layers')\n",
        "\n",
        "transformer_config\n"
      ],
      "execution_count": null,
      "outputs": [
        {
          "output_type": "execute_result",
          "data": {
            "text/plain": [
              "{'activation': <function official.modeling.activations.gelu.gelu>,\n",
              " 'attention_dropout_rate': 0.1,\n",
              " 'dropout_rate': 0.1,\n",
              " 'hidden_size': 768,\n",
              " 'initializer': <tensorflow.python.keras.initializers.initializers_v2.TruncatedNormal at 0x7f1ec041a7f0>,\n",
              " 'intermediate_size': 3072,\n",
              " 'max_sequence_length': 512,\n",
              " 'num_attention_heads': 12,\n",
              " 'num_layers': 12,\n",
              " 'type_vocab_size': 2,\n",
              " 'vocab_size': 30522}"
            ]
          },
          "metadata": {
            "tags": []
          },
          "execution_count": 20
        }
      ]
    },
    {
      "cell_type": "markdown",
      "metadata": {
        "id": "5SmsoHunWqch",
        "colab_type": "text"
      },
      "source": [
        "# Building the Bert Classifier"
      ]
    },
    {
      "cell_type": "code",
      "metadata": {
        "id": "T1Q6C36NZ1p3",
        "colab_type": "code",
        "colab": {}
      },
      "source": [
        "manual_classifier = nlp.modeling.models.BertClassifier(\n",
        "        bert_encoder,\n",
        "        num_classes=2,\n",
        "        dropout_rate=transformer_config['dropout_rate'],\n",
        "        initializer=tf.keras.initializers.TruncatedNormal(\n",
        "          stddev=bert_config.initializer_range))"
      ],
      "execution_count": null,
      "outputs": []
    },
    {
      "cell_type": "code",
      "metadata": {
        "id": "grMZYiNsaDDv",
        "colab_type": "code",
        "colab": {}
      },
      "source": [
        "epochs = 3\n",
        "batch_size = 32\n",
        "eval_batch_size = 32\n",
        "\n",
        "train_data_size = len(glue_train_labels)\n",
        "steps_per_epoch = int(train_data_size / batch_size)\n",
        "num_train_steps = steps_per_epoch * epochs\n",
        "warmup_steps = int(epochs * train_data_size * 0.1 / batch_size)\n",
        "\n",
        "# creates an optimizer with learning rate schedule\n",
        "optimizer = nlp.optimization.create_optimizer(\n",
        "    2e-5, num_train_steps=num_train_steps, num_warmup_steps=warmup_steps)\n",
        "metrics = [tf.keras.metrics.SparseCategoricalAccuracy('accuracy', dtype=tf.float32)]\n",
        "loss = tf.keras.losses.SparseCategoricalCrossentropy(from_logits=True)\n"
      ],
      "execution_count": null,
      "outputs": []
    },
    {
      "cell_type": "markdown",
      "metadata": {
        "id": "8EUvJ2G7W0YI",
        "colab_type": "text"
      },
      "source": [
        "## Compiling the model"
      ]
    },
    {
      "cell_type": "code",
      "metadata": {
        "id": "zELvbsKzbcbd",
        "colab_type": "code",
        "colab": {}
      },
      "source": [
        "manual_classifier.compile(\n",
        "    optimizer=optimizer,\n",
        "    loss=loss,\n",
        "    metrics=metrics)"
      ],
      "execution_count": null,
      "outputs": []
    },
    {
      "cell_type": "markdown",
      "metadata": {
        "id": "Bw0QphfUW3BK",
        "colab_type": "text"
      },
      "source": [
        "## Training and Testing the model"
      ]
    },
    {
      "cell_type": "code",
      "metadata": {
        "id": "GHc6nXiLbjo3",
        "colab_type": "code",
        "colab": {
          "base_uri": "https://localhost:8080/",
          "height": 138
        },
        "outputId": "5675bac8-06a0-4117-f5de-efecf52074c0"
      },
      "source": [
        "manual_classifier.fit(\n",
        "      glue_train, glue_train_labels,\n",
        "      validation_data=(glue_validation, glue_validation_labels),\n",
        "      batch_size=32,\n",
        "      epochs=epochs)"
      ],
      "execution_count": null,
      "outputs": [
        {
          "output_type": "stream",
          "text": [
            "Epoch 1/3\n",
            "268/268 [==============================] - 2487s 9s/step - loss: 0.6046 - accuracy: 0.6605 - val_loss: 0.4546 - val_accuracy: 0.7910\n",
            "Epoch 2/3\n",
            "268/268 [==============================] - 2368s 9s/step - loss: 0.3460 - accuracy: 0.8586 - val_loss: 0.4520 - val_accuracy: 0.8226\n",
            "Epoch 3/3\n",
            "268/268 [==============================] - 2394s 9s/step - loss: 0.2301 - accuracy: 0.9176 - val_loss: 0.4943 - val_accuracy: 0.8274\n"
          ],
          "name": "stdout"
        },
        {
          "output_type": "execute_result",
          "data": {
            "text/plain": [
              "<tensorflow.python.keras.callbacks.History at 0x7f1e9cb20358>"
            ]
          },
          "metadata": {
            "tags": []
          },
          "execution_count": 24
        }
      ]
    }
  ]
}